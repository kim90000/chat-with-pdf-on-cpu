{
  "nbformat": 4,
  "nbformat_minor": 0,
  "metadata": {
    "colab": {
      "provenance": []
    },
    "kernelspec": {
      "name": "python3",
      "display_name": "Python 3"
    },
    "language_info": {
      "name": "python"
    },
    "widgets": {
      "application/vnd.jupyter.widget-state+json": {
        "62f456625f0c4e6ab6c0af8186df770c": {
          "model_module": "@jupyter-widgets/controls",
          "model_name": "HBoxModel",
          "model_module_version": "1.5.0",
          "state": {
            "_dom_classes": [],
            "_model_module": "@jupyter-widgets/controls",
            "_model_module_version": "1.5.0",
            "_model_name": "HBoxModel",
            "_view_count": null,
            "_view_module": "@jupyter-widgets/controls",
            "_view_module_version": "1.5.0",
            "_view_name": "HBoxView",
            "box_style": "",
            "children": [
              "IPY_MODEL_b7ddc87d67a0430184da07436adf2f76",
              "IPY_MODEL_dfdad3d2277749ddb1dd88454cd70381",
              "IPY_MODEL_d884c4238f0e480b9cfc2cfd5d4d10dc"
            ],
            "layout": "IPY_MODEL_1cabe29e77d34e91860eb4754f5625ae"
          }
        },
        "b7ddc87d67a0430184da07436adf2f76": {
          "model_module": "@jupyter-widgets/controls",
          "model_name": "HTMLModel",
          "model_module_version": "1.5.0",
          "state": {
            "_dom_classes": [],
            "_model_module": "@jupyter-widgets/controls",
            "_model_module_version": "1.5.0",
            "_model_name": "HTMLModel",
            "_view_count": null,
            "_view_module": "@jupyter-widgets/controls",
            "_view_module_version": "1.5.0",
            "_view_name": "HTMLView",
            "description": "",
            "description_tooltip": null,
            "layout": "IPY_MODEL_e97696f461c34fba8be11aeeefea003b",
            "placeholder": "​",
            "style": "IPY_MODEL_733cbafdacca4d619f37245f39dbad53",
            "value": "Loading checkpoint shards: 100%"
          }
        },
        "dfdad3d2277749ddb1dd88454cd70381": {
          "model_module": "@jupyter-widgets/controls",
          "model_name": "FloatProgressModel",
          "model_module_version": "1.5.0",
          "state": {
            "_dom_classes": [],
            "_model_module": "@jupyter-widgets/controls",
            "_model_module_version": "1.5.0",
            "_model_name": "FloatProgressModel",
            "_view_count": null,
            "_view_module": "@jupyter-widgets/controls",
            "_view_module_version": "1.5.0",
            "_view_name": "ProgressView",
            "bar_style": "success",
            "description": "",
            "description_tooltip": null,
            "layout": "IPY_MODEL_ac7aae02cfea48c0a11d7bf54fd10065",
            "max": 4,
            "min": 0,
            "orientation": "horizontal",
            "style": "IPY_MODEL_4371f28b2ac840378b8e6d8ad741ef6e",
            "value": 4
          }
        },
        "d884c4238f0e480b9cfc2cfd5d4d10dc": {
          "model_module": "@jupyter-widgets/controls",
          "model_name": "HTMLModel",
          "model_module_version": "1.5.0",
          "state": {
            "_dom_classes": [],
            "_model_module": "@jupyter-widgets/controls",
            "_model_module_version": "1.5.0",
            "_model_name": "HTMLModel",
            "_view_count": null,
            "_view_module": "@jupyter-widgets/controls",
            "_view_module_version": "1.5.0",
            "_view_name": "HTMLView",
            "description": "",
            "description_tooltip": null,
            "layout": "IPY_MODEL_be1ab630a8a24d0b8508b5cc04f46154",
            "placeholder": "​",
            "style": "IPY_MODEL_9f0a2513a4804cf0b13227255d31dd85",
            "value": " 4/4 [00:31&lt;00:00, 31.50s/it]"
          }
        },
        "1cabe29e77d34e91860eb4754f5625ae": {
          "model_module": "@jupyter-widgets/base",
          "model_name": "LayoutModel",
          "model_module_version": "1.2.0",
          "state": {
            "_model_module": "@jupyter-widgets/base",
            "_model_module_version": "1.2.0",
            "_model_name": "LayoutModel",
            "_view_count": null,
            "_view_module": "@jupyter-widgets/base",
            "_view_module_version": "1.2.0",
            "_view_name": "LayoutView",
            "align_content": null,
            "align_items": null,
            "align_self": null,
            "border": null,
            "bottom": null,
            "display": null,
            "flex": null,
            "flex_flow": null,
            "grid_area": null,
            "grid_auto_columns": null,
            "grid_auto_flow": null,
            "grid_auto_rows": null,
            "grid_column": null,
            "grid_gap": null,
            "grid_row": null,
            "grid_template_areas": null,
            "grid_template_columns": null,
            "grid_template_rows": null,
            "height": null,
            "justify_content": null,
            "justify_items": null,
            "left": null,
            "margin": null,
            "max_height": null,
            "max_width": null,
            "min_height": null,
            "min_width": null,
            "object_fit": null,
            "object_position": null,
            "order": null,
            "overflow": null,
            "overflow_x": null,
            "overflow_y": null,
            "padding": null,
            "right": null,
            "top": null,
            "visibility": null,
            "width": null
          }
        },
        "e97696f461c34fba8be11aeeefea003b": {
          "model_module": "@jupyter-widgets/base",
          "model_name": "LayoutModel",
          "model_module_version": "1.2.0",
          "state": {
            "_model_module": "@jupyter-widgets/base",
            "_model_module_version": "1.2.0",
            "_model_name": "LayoutModel",
            "_view_count": null,
            "_view_module": "@jupyter-widgets/base",
            "_view_module_version": "1.2.0",
            "_view_name": "LayoutView",
            "align_content": null,
            "align_items": null,
            "align_self": null,
            "border": null,
            "bottom": null,
            "display": null,
            "flex": null,
            "flex_flow": null,
            "grid_area": null,
            "grid_auto_columns": null,
            "grid_auto_flow": null,
            "grid_auto_rows": null,
            "grid_column": null,
            "grid_gap": null,
            "grid_row": null,
            "grid_template_areas": null,
            "grid_template_columns": null,
            "grid_template_rows": null,
            "height": null,
            "justify_content": null,
            "justify_items": null,
            "left": null,
            "margin": null,
            "max_height": null,
            "max_width": null,
            "min_height": null,
            "min_width": null,
            "object_fit": null,
            "object_position": null,
            "order": null,
            "overflow": null,
            "overflow_x": null,
            "overflow_y": null,
            "padding": null,
            "right": null,
            "top": null,
            "visibility": null,
            "width": null
          }
        },
        "733cbafdacca4d619f37245f39dbad53": {
          "model_module": "@jupyter-widgets/controls",
          "model_name": "DescriptionStyleModel",
          "model_module_version": "1.5.0",
          "state": {
            "_model_module": "@jupyter-widgets/controls",
            "_model_module_version": "1.5.0",
            "_model_name": "DescriptionStyleModel",
            "_view_count": null,
            "_view_module": "@jupyter-widgets/base",
            "_view_module_version": "1.2.0",
            "_view_name": "StyleView",
            "description_width": ""
          }
        },
        "ac7aae02cfea48c0a11d7bf54fd10065": {
          "model_module": "@jupyter-widgets/base",
          "model_name": "LayoutModel",
          "model_module_version": "1.2.0",
          "state": {
            "_model_module": "@jupyter-widgets/base",
            "_model_module_version": "1.2.0",
            "_model_name": "LayoutModel",
            "_view_count": null,
            "_view_module": "@jupyter-widgets/base",
            "_view_module_version": "1.2.0",
            "_view_name": "LayoutView",
            "align_content": null,
            "align_items": null,
            "align_self": null,
            "border": null,
            "bottom": null,
            "display": null,
            "flex": null,
            "flex_flow": null,
            "grid_area": null,
            "grid_auto_columns": null,
            "grid_auto_flow": null,
            "grid_auto_rows": null,
            "grid_column": null,
            "grid_gap": null,
            "grid_row": null,
            "grid_template_areas": null,
            "grid_template_columns": null,
            "grid_template_rows": null,
            "height": null,
            "justify_content": null,
            "justify_items": null,
            "left": null,
            "margin": null,
            "max_height": null,
            "max_width": null,
            "min_height": null,
            "min_width": null,
            "object_fit": null,
            "object_position": null,
            "order": null,
            "overflow": null,
            "overflow_x": null,
            "overflow_y": null,
            "padding": null,
            "right": null,
            "top": null,
            "visibility": null,
            "width": null
          }
        },
        "4371f28b2ac840378b8e6d8ad741ef6e": {
          "model_module": "@jupyter-widgets/controls",
          "model_name": "ProgressStyleModel",
          "model_module_version": "1.5.0",
          "state": {
            "_model_module": "@jupyter-widgets/controls",
            "_model_module_version": "1.5.0",
            "_model_name": "ProgressStyleModel",
            "_view_count": null,
            "_view_module": "@jupyter-widgets/base",
            "_view_module_version": "1.2.0",
            "_view_name": "StyleView",
            "bar_color": null,
            "description_width": ""
          }
        },
        "be1ab630a8a24d0b8508b5cc04f46154": {
          "model_module": "@jupyter-widgets/base",
          "model_name": "LayoutModel",
          "model_module_version": "1.2.0",
          "state": {
            "_model_module": "@jupyter-widgets/base",
            "_model_module_version": "1.2.0",
            "_model_name": "LayoutModel",
            "_view_count": null,
            "_view_module": "@jupyter-widgets/base",
            "_view_module_version": "1.2.0",
            "_view_name": "LayoutView",
            "align_content": null,
            "align_items": null,
            "align_self": null,
            "border": null,
            "bottom": null,
            "display": null,
            "flex": null,
            "flex_flow": null,
            "grid_area": null,
            "grid_auto_columns": null,
            "grid_auto_flow": null,
            "grid_auto_rows": null,
            "grid_column": null,
            "grid_gap": null,
            "grid_row": null,
            "grid_template_areas": null,
            "grid_template_columns": null,
            "grid_template_rows": null,
            "height": null,
            "justify_content": null,
            "justify_items": null,
            "left": null,
            "margin": null,
            "max_height": null,
            "max_width": null,
            "min_height": null,
            "min_width": null,
            "object_fit": null,
            "object_position": null,
            "order": null,
            "overflow": null,
            "overflow_x": null,
            "overflow_y": null,
            "padding": null,
            "right": null,
            "top": null,
            "visibility": null,
            "width": null
          }
        },
        "9f0a2513a4804cf0b13227255d31dd85": {
          "model_module": "@jupyter-widgets/controls",
          "model_name": "DescriptionStyleModel",
          "model_module_version": "1.5.0",
          "state": {
            "_model_module": "@jupyter-widgets/controls",
            "_model_module_version": "1.5.0",
            "_model_name": "DescriptionStyleModel",
            "_view_count": null,
            "_view_module": "@jupyter-widgets/base",
            "_view_module_version": "1.2.0",
            "_view_name": "StyleView",
            "description_width": ""
          }
        }
      }
    }
  },
  "cells": [
    {
      "cell_type": "code",
      "source": [],
      "metadata": {
        "id": "dp9h31dbjmJd"
      },
      "execution_count": null,
      "outputs": []
    },
    {
      "cell_type": "code",
      "source": [],
      "metadata": {
        "id": "C95Bbx36jn86"
      },
      "execution_count": null,
      "outputs": []
    },
    {
      "cell_type": "code",
      "source": [],
      "metadata": {
        "id": "fldsE9Z9joAa"
      },
      "execution_count": null,
      "outputs": []
    },
    {
      "cell_type": "code",
      "source": [
        "# Use a pipeline as a high-level helper\n",
        "from transformers import pipeline\n",
        "\n",
        "messages = [\n",
        "    {\"role\": \"user\", \"content\": \"Who are you?\"},\n",
        "]\n",
        "pipe = pipeline(\"text-generation\", model=\"meta-llama/Llama-3.1-8B-Instruct\", torch_dtype=torch.float32, device_map=\"auto\")\n",
        "pipe(messages)"
      ],
      "metadata": {
        "id": "Z4m5cxzTjoES"
      },
      "execution_count": null,
      "outputs": []
    },
    {
      "cell_type": "code",
      "source": [],
      "metadata": {
        "id": "BtnjKLr8joGy"
      },
      "execution_count": null,
      "outputs": []
    },
    {
      "cell_type": "markdown",
      "source": [
        "شغال شات كتب ع المكعالج 1"
      ],
      "metadata": {
        "id": "XTd6-mSfigIa"
      }
    },
    {
      "source": [
        "# ipython-input-25-bccdb090aded\n",
        "\n",
        "#!pip install pymupdf sentence-transformers transformers\n",
        "\n",
        "import fitz  # PyMuPDF\n",
        "from sentence_transformers import SentenceTransformer\n",
        "# Instead of AutoModelForSeq2SeqLM, import AutoModelForCausalLM\n",
        "from transformers import AutoModelForCausalLM, AutoTokenizer\n",
        "import torch\n",
        "import numpy as np\n",
        "\n",
        "# Load the embedding model\n",
        "embedding_model = SentenceTransformer('all-MiniLM-L6-v2')\n",
        "\n",
        "# Load the Llama model and tokenizer\n",
        "llama_model_name = \"meta-llama/Llama-3.1-8B-Instruct\"\n",
        "# Use AutoModelForCausalLM to load the Llama model\n",
        "llama_model = AutoModelForCausalLM.from_pretrained(llama_model_name, torch_dtype=torch.float32, device_map=\"auto\")\n",
        "llama_tokenizer = AutoTokenizer.from_pretrained(llama_model_name)\n",
        "\n",
        "# Function to extract text from PDF\n",
        "def extract_text_from_pdf(pdf_path):\n",
        "    doc = fitz.open(pdf_path)\n",
        "    text = \"\"\n",
        "    for page_num in range(len(doc)):\n",
        "        page = doc.load_page(page_num)\n",
        "        text += page.get_text()\n",
        "    return text\n",
        "\n",
        "# Function to generate embeddings\n",
        "def generate_embeddings(text):\n",
        "    sentences = text.split('. ')\n",
        "    embeddings = embedding_model.encode(sentences)\n",
        "    return sentences, embeddings\n",
        "\n",
        "# Path to your PDF file\n",
        "pdf_path = '/content/Xenobi-Amilen.pdf'\n",
        "pdf_text = extract_text_from_pdf(pdf_path)\n",
        "sentences, embeddings = generate_embeddings(pdf_text)\n",
        "\n",
        "# Save the embeddings and sentences for later use\n",
        "np.save('embeddings.npy', embeddings)\n",
        "with open('sentences.txt', 'w') as f:\n",
        "    for sentence in sentences:\n",
        "        f.write(\"%s\\n\" % sentence)"
      ],
      "cell_type": "code",
      "metadata": {
        "colab": {
          "base_uri": "https://localhost:8080/",
          "height": 86,
          "referenced_widgets": [
            "62f456625f0c4e6ab6c0af8186df770c",
            "b7ddc87d67a0430184da07436adf2f76",
            "dfdad3d2277749ddb1dd88454cd70381",
            "d884c4238f0e480b9cfc2cfd5d4d10dc",
            "1cabe29e77d34e91860eb4754f5625ae",
            "e97696f461c34fba8be11aeeefea003b",
            "733cbafdacca4d619f37245f39dbad53",
            "ac7aae02cfea48c0a11d7bf54fd10065",
            "4371f28b2ac840378b8e6d8ad741ef6e",
            "be1ab630a8a24d0b8508b5cc04f46154",
            "9f0a2513a4804cf0b13227255d31dd85"
          ]
        },
        "id": "kKMtUXVaa40f",
        "outputId": "56fd2e25-5d7d-4ce0-e7dd-0cb113f6dea9"
      },
      "execution_count": 2,
      "outputs": [
        {
          "output_type": "display_data",
          "data": {
            "text/plain": [
              "Loading checkpoint shards:   0%|          | 0/4 [00:00<?, ?it/s]"
            ],
            "application/vnd.jupyter.widget-view+json": {
              "version_major": 2,
              "version_minor": 0,
              "model_id": "62f456625f0c4e6ab6c0af8186df770c"
            }
          },
          "metadata": {}
        },
        {
          "output_type": "stream",
          "name": "stderr",
          "text": [
            "WARNING:accelerate.big_modeling:Some parameters are on the meta device because they were offloaded to the cpu and disk.\n"
          ]
        }
      ]
    },
    {
      "cell_type": "markdown",
      "source": [
        "شغال شات كتب ع المكعالج 2"
      ],
      "metadata": {
        "id": "sbz-LQEUikX5"
      }
    },
    {
      "cell_type": "code",
      "source": [
        "from sklearn.metrics.pairwise import cosine_similarity\n",
        "\n",
        "# Load embeddings and sentences\n",
        "embeddings = np.load('embeddings.npy')\n",
        "with open('sentences.txt', 'r') as f:\n",
        "    sentences = f.readlines()\n",
        "\n",
        "# Function to find the most similar sentence\n",
        "def find_similar_sentence(query, embeddings):\n",
        "    query_embedding = embedding_model.encode([query])\n",
        "    similarities = cosine_similarity(query_embedding, embeddings)\n",
        "    most_similar_idx = np.argmax(similarities)\n",
        "    return sentences[most_similar_idx]\n",
        "\n",
        "# Function to generate response using Llama model\n",
        "def generate_response(query):\n",
        "    similar_sentence = find_similar_sentence(query, embeddings)\n",
        "    input_text = f\"Q: {query}\\nA: {similar_sentence}\"\n",
        "    inputs = llama_tokenizer(input_text, return_tensors=\"pt\")\n",
        "    outputs = llama_model.generate(**inputs)\n",
        "    response = llama_tokenizer.decode(outputs[0], skip_special_tokens=True)\n",
        "    return response\n",
        "\n",
        "# Simple chat interface\n",
        "while True:\n",
        "    user_query = input(\"You: \")\n",
        "    if user_query.lower() in [\"exit\", \"quit\"]:\n",
        "        break\n",
        "    response = generate_response(user_query)\n",
        "    print(f\"Llama: {response}\")"
      ],
      "metadata": {
        "id": "o2pZKK67a_HW"
      },
      "execution_count": null,
      "outputs": []
    }
  ]
}